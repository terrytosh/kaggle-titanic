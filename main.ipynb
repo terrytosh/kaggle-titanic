{
 "cells": [
  {
   "cell_type": "code",
   "execution_count": 11,
   "metadata": {},
   "outputs": [
    {
     "name": "stdout",
     "output_type": "stream",
     "text": [
      "PassengerId      0\n",
      "Survived         0\n",
      "Pclass           0\n",
      "Name             0\n",
      "Sex              0\n",
      "Age            177\n",
      "SibSp            0\n",
      "Parch            0\n",
      "Ticket           0\n",
      "Fare             0\n",
      "Cabin          687\n",
      "Embarked         2\n",
      "dtype: int64\n"
     ]
    }
   ],
   "source": [
    "# Import libraries\n",
    "import pandas as pd\n",
    "import numpy as np\n",
    "\n",
    "# Import data into pandas Dataframe\n",
    "train_data_path = 'train.csv'\n",
    "df = pd.read_csv(train_data_path)\n",
    "print(df.head())\n",
    "\n",
    "# Print a summary of the data\n",
    "print(df.describe())\n",
    "\n",
    "# Check for null/missing entries\n",
    "print(df.isnull().sum())"
   ]
  },
  {
   "cell_type": "code",
   "execution_count": 10,
   "metadata": {},
   "outputs": [
    {
     "name": "stdout",
     "output_type": "stream",
     "text": [
      "[[3 'male' 22.0 1 0]\n",
      " [1 'female' 38.0 1 0]\n",
      " [3 'female' 26.0 0 0]\n",
      " ...\n",
      " [3 'female' nan 1 2]\n",
      " [1 'male' 26.0 0 0]\n",
      " [3 'male' 32.0 0 0]]\n"
     ]
    }
   ],
   "source": [
    "# select specific columns using iloc and convert to numpy array\n",
    "selected_cols = df.iloc[:, [2, 4, 5, 6, 7]]\n",
    "numpy_array = selected_cols.values\n",
    "print(numpy_array)"
   ]
  }
 ],
 "metadata": {
  "kernelspec": {
   "display_name": "ml",
   "language": "python",
   "name": "python3"
  },
  "language_info": {
   "codemirror_mode": {
    "name": "ipython",
    "version": 3
   },
   "file_extension": ".py",
   "mimetype": "text/x-python",
   "name": "python",
   "nbconvert_exporter": "python",
   "pygments_lexer": "ipython3",
   "version": "3.11.2"
  },
  "orig_nbformat": 4
 },
 "nbformat": 4,
 "nbformat_minor": 2
}
